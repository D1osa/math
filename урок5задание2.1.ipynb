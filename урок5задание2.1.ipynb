{
 "cells": [
  {
   "cell_type": "code",
   "execution_count": 8,
   "id": "f6d4b170",
   "metadata": {},
   "outputs": [
    {
     "name": "stdout",
     "output_type": "stream",
     "text": [
      "Вероятность попадания в зелёное поле - 0.01, в красное - 0.44, в чёрное - 0.55\n",
      "Суммарная вероятность: 1.0\n"
     ]
    }
   ],
   "source": [
    "%matplotlib inline\n",
    "import numpy as np\n",
    "\n",
    "red = 0\n",
    "green = 0\n",
    "black = 0\n",
    "n = 100\n",
    "color = None\n",
    "for i in range(0, n):\n",
    "    x = np.random.randint(0, 36)\n",
    "    if x == 0:\n",
    "        color = 'Green'\n",
    "        green += 1\n",
    "    elif x % 2 == 0:\n",
    "        color = 'Red'\n",
    "        red += 1\n",
    "    else:\n",
    "        color = 'Black'\n",
    "        black += 1\n",
    "        \n",
    "green_prob = round(green / n, 2)\n",
    "red_prob = round(red / n, 2)\n",
    "black_prob = round(black / n, 2)\n",
    "print(f'Вероятность попадания в зелёное поле - {green_prob}, в красное - {red_prob}, в чёрное - {black_prob}')\n",
    "print(f'Суммарная вероятность: {green_prob + red_prob + black_prob}')\n"
   ]
  },
  {
   "cell_type": "code",
   "execution_count": null,
   "id": "ea59362e",
   "metadata": {},
   "outputs": [],
   "source": []
  }
 ],
 "metadata": {
  "kernelspec": {
   "display_name": "Python 3",
   "language": "python",
   "name": "python3"
  },
  "language_info": {
   "codemirror_mode": {
    "name": "ipython",
    "version": 3
   },
   "file_extension": ".py",
   "mimetype": "text/x-python",
   "name": "python",
   "nbconvert_exporter": "python",
   "pygments_lexer": "ipython3",
   "version": "3.8.8"
  }
 },
 "nbformat": 4,
 "nbformat_minor": 5
}
