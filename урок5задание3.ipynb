{
 "cells": [
  {
   "cell_type": "code",
   "execution_count": 22,
   "id": "bb3e0009",
   "metadata": {},
   "outputs": [
    {
     "name": "stdout",
     "output_type": "stream",
     "text": [
      "3785 10000 0.3785\n"
     ]
    }
   ],
   "source": [
    "import numpy as np\n",
    "import math\n",
    "k = 0\n",
    "n = 10000\n",
    "a = np.random.randint(0, 2, n)\n",
    "b = np.random.randint(0, 2, n)\n",
    "c = np.random.randint(0, 2, n)\n",
    "d = np.random.randint(0, 2, n)\n",
    "x = a + b + c + d\n",
    "for i in range(0, n):\n",
    "    if x[i] == 2:\n",
    "        k = k + 1\n",
    "print(k, n, k / n)"
   ]
  },
  {
   "cell_type": "code",
   "execution_count": 23,
   "id": "2454a14c",
   "metadata": {},
   "outputs": [
    {
     "name": "stdout",
     "output_type": "stream",
     "text": [
      "0.375\n"
     ]
    }
   ],
   "source": [
    "n = 4\n",
    "k = 2\n",
    "cnk = math.factorial(n) / (math.factorial(k) * math.factorial(n - k))\n",
    "p = k / n\n",
    "q = 1 - p\n",
    "v = cnk * (p**k) * (q**(n - k))\n",
    "print(v)"
   ]
  },
  {
   "cell_type": "code",
   "execution_count": 26,
   "id": "b2dc0927",
   "metadata": {},
   "outputs": [
    {
     "name": "stdout",
     "output_type": "stream",
     "text": [
      "0.3456\n"
     ]
    }
   ],
   "source": [
    "n = 5\n",
    "k = 3\n",
    "cnk = math.factorial(n) / (math.factorial(k) * math.factorial(n - k))\n",
    "p = k / n\n",
    "q = 1 - p\n",
    "v = cnk * (p**k) * (q**(n - k))\n",
    "print(v)"
   ]
  },
  {
   "cell_type": "code",
   "execution_count": null,
   "id": "fe97b401",
   "metadata": {},
   "outputs": [],
   "source": []
  }
 ],
 "metadata": {
  "kernelspec": {
   "display_name": "Python 3",
   "language": "python",
   "name": "python3"
  },
  "language_info": {
   "codemirror_mode": {
    "name": "ipython",
    "version": 3
   },
   "file_extension": ".py",
   "mimetype": "text/x-python",
   "name": "python",
   "nbconvert_exporter": "python",
   "pygments_lexer": "ipython3",
   "version": "3.8.8"
  }
 },
 "nbformat": 4,
 "nbformat_minor": 5
}
