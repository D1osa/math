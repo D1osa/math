{
 "cells": [
  {
   "cell_type": "code",
   "execution_count": 1,
   "id": "c050cbb3",
   "metadata": {},
   "outputs": [
    {
     "name": "stdout",
     "output_type": "stream",
     "text": [
      "Нажмите Enter для игры, нажмите q для выхода: \n",
      "Выпало число:  29\n",
      "Нажмите Enter для игры, нажмите q для выхода: \n",
      "Выпало число:  8\n",
      "Нажмите Enter для игры, нажмите q для выхода: \n",
      "Выпало число:  14\n",
      "Нажмите Enter для игры, нажмите q для выхода: q\n",
      "Игра окончена!\n"
     ]
    }
   ],
   "source": [
    "import random\n",
    "\n",
    "while True:\n",
    "    i = input('Нажмите Enter для игры, нажмите q для выхода: ')\n",
    "    if i == 'q':\n",
    "        print('Игра окончена!')\n",
    "        break\n",
    "    print('Выпало число: ', random.randint(0, 36))\n"
   ]
  },
  {
   "cell_type": "code",
   "execution_count": null,
   "id": "ae78e280",
   "metadata": {},
   "outputs": [],
   "source": []
  }
 ],
 "metadata": {
  "kernelspec": {
   "display_name": "Python 3",
   "language": "python",
   "name": "python3"
  },
  "language_info": {
   "codemirror_mode": {
    "name": "ipython",
    "version": 3
   },
   "file_extension": ".py",
   "mimetype": "text/x-python",
   "name": "python",
   "nbconvert_exporter": "python",
   "pygments_lexer": "ipython3",
   "version": "3.8.8"
  }
 },
 "nbformat": 4,
 "nbformat_minor": 5
}
