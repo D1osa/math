{
 "cells": [
  {
   "cell_type": "code",
   "execution_count": 16,
   "id": "41b9bb8c",
   "metadata": {},
   "outputs": [
    {
     "data": {
      "text/plain": [
       "Text(0, 0.5, 'Probability')"
      ]
     },
     "execution_count": 16,
     "metadata": {},
     "output_type": "execute_result"
    },
    {
     "data": {
      "image/png": "[encoded data removed]",
      "text/plain": [
       "<Figure size 432x288 with 1 Axes>"
      ]
     },
     "metadata": {
      "needs_background": "light"
     },
     "output_type": "display_data"
    }
   ],
   "source": [
    "%matplotlib inline\n",
    "import numpy as np\n",
    "import matplotlib.pyplot as plt\n",
    "import matplotlib.mlab as mlab\n",
    "\n",
    "x = []\n",
    "for n in range(0, 10):\n",
    "    x_1 = []\n",
    "    for i in range(0, 100):\n",
    "        x_1.append(random.randint(0,100))\n",
    "    x.append(np.sum(x_1))\n",
    "plt.xlabel('x')\n",
    "plt.hist(x, 10)\n",
    "plt.title('Histogram')\n",
    "plt.ylabel('Probability')\n"
   ]
  },
  {
   "cell_type": "code",
   "execution_count": null,
   "id": "d86858cf",
   "metadata": {},
   "outputs": [],
   "source": []
  }
 ],
 "metadata": {
  "kernelspec": {
   "display_name": "Python 3",
   "language": "python",
   "name": "python3"
  },
  "language_info": {
   "codemirror_mode": {
    "name": "ipython",
    "version": 3
   },
   "file_extension": ".py",
   "mimetype": "text/x-python",
   "name": "python",
   "nbconvert_exporter": "python",
   "pygments_lexer": "ipython3",
   "version": "3.8.8"
  }
 },
 "nbformat": 4,
 "nbformat_minor": 5
}
