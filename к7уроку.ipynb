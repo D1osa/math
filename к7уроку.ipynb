{
 "cells": [
  {
   "cell_type": "code",
   "execution_count": 1,
   "id": "f40fa470",
   "metadata": {},
   "outputs": [
    {
     "data": {
      "text/plain": [
       "59.999999999999986"
      ]
     },
     "execution_count": 1,
     "metadata": {},
     "output_type": "execute_result"
    }
   ],
   "source": [
    "#поиск определителя матрицы с помощью python\n",
    "import numpy as np\n",
    "a = np.array([[1, 2, 3], [4, 0, 6], [7, 8, 9]])\n",
    "np.linalg.det(a)"
   ]
  },
  {
   "cell_type": "code",
   "execution_count": 2,
   "id": "b80f77a0",
   "metadata": {},
   "outputs": [
    {
     "data": {
      "text/plain": [
       "60"
      ]
     },
     "execution_count": 2,
     "metadata": {},
     "output_type": "execute_result"
    }
   ],
   "source": [
    "1 * (0 * 9 - 6 * 8) - 2 * (4 * 9 - 6 * 7) + 3 * (4 * 8 - 0 * 7)"
   ]
  },
  {
   "cell_type": "code",
   "execution_count": 49,
   "id": "80afac34",
   "metadata": {},
   "outputs": [
    {
     "name": "stdout",
     "output_type": "stream",
     "text": [
      "[[0.2 0.  0.  0.  0. ]\n",
      " [0.  0.2 0.  0.  0. ]\n",
      " [0.  0.  0.2 0.  0. ]\n",
      " [0.  0.  0.  0.2 0. ]\n",
      " [0.  0.  0.  0.  0.2]]\n"
     ]
    }
   ],
   "source": [
    "#задание с единичной матрицей\n",
    "#все таки сделала в программе\n",
    "E = np.array([[1, 0, 0, 0, 0], [0, 1, 0, 0, 0], [0, 0, 1, 0, 0], [0, 0 , 0, 1, 0], [0, 0, 0, 0, 1]])\n",
    "E_5 = 5 * E\n",
    "E_rev = np.linalg.inv(E_5)\n",
    "print(E_rev)"
   ]
  },
  {
   "cell_type": "code",
   "execution_count": null,
   "id": "25a58608",
   "metadata": {},
   "outputs": [],
   "source": [
    "#смешанное произведение векторов"
   ]
  },
  {
   "cell_type": "code",
   "execution_count": 6,
   "id": "894136b6",
   "metadata": {},
   "outputs": [
    {
     "name": "stdout",
     "output_type": "stream",
     "text": [
      "228.5\n",
      "228.5\n"
     ]
    }
   ],
   "source": [
    "d = np.array([1, 5, 0], float)\n",
    "e = np.array([2,8,7], float)\n",
    "f = np.array([7, 1.5, 3], float)\n",
    "g = np.cross(d, e)\n",
    "print(np.inner(g, f))\n",
    "h = np.cross(e, f)\n",
    "print(np.inner(h, d))"
   ]
  },
  {
   "cell_type": "code",
   "execution_count": 9,
   "id": "8a71d9dc",
   "metadata": {},
   "outputs": [
    {
     "data": {
      "text/plain": [
       "array([-9.1       ,  1.2       ,  6.23333333])"
      ]
     },
     "execution_count": 9,
     "metadata": {},
     "output_type": "execute_result"
    }
   ],
   "source": [
    "#решите линейную систему\n",
    "A = np.array([[1, 2, 3], [4, 0, 6], [7, 8, 9]])\n",
    "B = np.array([12, 1, 2])\n",
    "A1 = np.linalg.inv(A) \n",
    "np.dot(A1, B)"
   ]
  },
  {
   "cell_type": "code",
   "execution_count": 11,
   "id": "ba89076c",
   "metadata": {},
   "outputs": [
    {
     "data": {
      "text/plain": [
       "array([ 1.13919353, -0.90498444, -0.9009803 ])"
      ]
     },
     "execution_count": 11,
     "metadata": {},
     "output_type": "execute_result"
    }
   ],
   "source": [
    "#найти псевдорешение системы уравнений\n",
    "A = np.array([[1, 2, -1], [3, -4, 0], [8, -5, 2], [2, 0, -5], [11, 4, -7]])\n",
    "B = np.array([1, 7, 12, 7, 15])\n",
    "A1 = np.linalg.pinv(A)\n",
    "np.dot(A1, B)"
   ]
  },
  {
   "cell_type": "code",
   "execution_count": 23,
   "id": "89addcc9",
   "metadata": {},
   "outputs": [
    {
     "data": {
      "text/plain": [
       "array([ 1.26663740e+15, -2.53327479e+15,  1.26663740e+15])"
      ]
     },
     "execution_count": 23,
     "metadata": {},
     "output_type": "execute_result"
    }
   ],
   "source": [
    "#сколько решений имеет система уравнений\n",
    "A = np.array([[1, 2, 3], [4, 5, 6], [7, 8, 9]])\n",
    "A1 = A * 5\n",
    "B = np.array([12, 2, 1])\n",
    "np.linalg.solve(A1, B)"
   ]
  },
  {
   "cell_type": "code",
   "execution_count": 33,
   "id": "a21434f1",
   "metadata": {},
   "outputs": [
    {
     "name": "stdout",
     "output_type": "stream",
     "text": [
      "[[0. 1. 0.]\n",
      " [0. 0. 1.]\n",
      " [1. 0. 0.]]\n",
      "[[ 1.    0.    0.  ]\n",
      " [ 0.25  1.    0.  ]\n",
      " [ 0.5  -0.4   1.  ]]\n",
      "[[  4.    28.    73.  ]\n",
      " [  0.    -5.   -15.25]\n",
      " [  0.     0.   -21.6 ]]\n"
     ]
    }
   ],
   "source": [
    "#LU-разложение\n",
    "import scipy\n",
    "import scipy.linalg\n",
    "M = np.array([[1, 2, 3], [2, 16, 21], [4, 28, 73]])\n",
    "P, L, U = scipy.linalg.lu(M)\n",
    "\n",
    "print(P)\n",
    "print(L)\n",
    "print(U)"
   ]
  },
  {
   "cell_type": "code",
   "execution_count": 39,
   "id": "f377c55e",
   "metadata": {
    "scrolled": false
   },
   "outputs": [
    {
     "data": {
      "image/png": "[encoded data removed]",
      "text/plain": [
       "<Figure size 432x288 with 1 Axes>"
      ]
     },
     "metadata": {
      "needs_background": "light"
     },
     "output_type": "display_data"
    },
    {
     "name": "stderr",
     "output_type": "stream",
     "text": [
      "<ipython-input-39-2b1fe933bcab>:19: FutureWarning: `rcond` parameter will change to the default of machine precision times ``max(M, N)`` where M and N are the input matrix dimensions.\n",
      "To use the future default and silence this warning we advise to pass `rcond=None`, to keep using the old, explicitly pass `rcond=-1`.\n",
      "  np.linalg.lstsq(m, n)\n"
     ]
    },
    {
     "data": {
      "text/plain": [
       "(array([ 1.38191882, -0.18081181,  0.0202952 ]),\n",
       " array([], dtype=float64),\n",
       " 2,\n",
       " array([9.65316119, 2.41173777]))"
      ]
     },
     "execution_count": 39,
     "metadata": {},
     "output_type": "execute_result"
    }
   ],
   "source": [
    "import matplotlib.pyplot as plt\n",
    "\n",
    "def Q(x, y, z):\n",
    "    return (x**2 + y**2 + z**2)\n",
    "\n",
    "x = np.linspace(-10, 10, 100)\n",
    "y = np.linspace(-10, 10, 100)\n",
    "z_1 = x + 2 * y - 1\n",
    "z_2 = 6 - 4 * x + 2.5 * y\n",
    "plt.plot(x, Q(x, y, z_1))\n",
    "plt.plot(x, Q(x, y, z_2))\n",
    "plt.grid(True)\n",
    "plt.xlabel('x')\n",
    "plt.ylabel('y')\n",
    "plt.show()\n",
    "\n",
    "m = np.array([[1, 2, -1], [8, -5, 2]])\n",
    "n = np.array ([1, 12])\n",
    "np.linalg.lstsq(m, n)"
   ]
  },
  {
   "cell_type": "code",
   "execution_count": 47,
   "id": "1429cef3",
   "metadata": {
    "scrolled": false
   },
   "outputs": [
    {
     "name": "stdout",
     "output_type": "stream",
     "text": [
      "[[1 2 3]\n",
      " [4 5 6]\n",
      " [7 8 9]]\n",
      "[[-0.12309149  0.90453403  0.40824829]\n",
      " [-0.49236596  0.30151134 -0.81649658]\n",
      " [-0.86164044 -0.30151134  0.40824829]]\n",
      "[[-8.12403840e+00 -9.60113630e+00 -1.10782342e+01]\n",
      " [ 0.00000000e+00  9.04534034e-01  1.80906807e+00]\n",
      " [ 0.00000000e+00  0.00000000e+00 -1.77635684e-15]]\n",
      "[[1. 2. 3.]\n",
      " [4. 5. 6.]\n",
      " [7. 8. 9.]]\n",
      "[[ 1.00000000e+00 -5.55111512e-16 -2.77555756e-16]\n",
      " [-5.55111512e-16  1.00000000e+00  5.68989300e-16]\n",
      " [-2.77555756e-16  5.68989300e-16  1.00000000e+00]]\n"
     ]
    }
   ],
   "source": [
    "#найти одно из псевдорешений вырожденной системы\n",
    "A_1 = np.array([[1, 2, 3], [4, 5, 6], [7, 8, 9]])\n",
    "B_1 = np.array([2, 5, 11])\n",
    "Q, R = np.linalg.qr(A_1)\n",
    "\n",
    "print(A_1)\n",
    "print(Q)\n",
    "print(R)\n",
    "\n",
    "print(np.dot(Q, R))\n",
    "print(np.dot(np.transpose(Q), Q))"
   ]
  },
  {
   "cell_type": "code",
   "execution_count": 43,
   "id": "780c2d1c",
   "metadata": {},
   "outputs": [
    {
     "data": {
      "text/plain": [
       "array([[-8.1240384 , -9.6011363 ],\n",
       "       [ 0.        ,  0.90453403]])"
      ]
     },
     "execution_count": 43,
     "metadata": {},
     "output_type": "execute_result"
    }
   ],
   "source": [
    "R_1 = R[:2, :2]\n",
    "R_1"
   ]
  },
  {
   "cell_type": "code",
   "execution_count": 44,
   "id": "ce5e63c8",
   "metadata": {},
   "outputs": [
    {
     "data": {
      "text/plain": [
       "array([-1.21860576e+01,  8.43769499e-15])"
      ]
     },
     "execution_count": 44,
     "metadata": {},
     "output_type": "execute_result"
    }
   ],
   "source": [
    "B_1_1 = np.dot(np.transpose(Q), B_1)[:2]\n",
    "B_1_1"
   ]
  },
  {
   "cell_type": "code",
   "execution_count": 45,
   "id": "09085207",
   "metadata": {},
   "outputs": [
    {
     "data": {
      "text/plain": [
       "array([1.50000000e+00, 9.32822279e-15])"
      ]
     },
     "execution_count": 45,
     "metadata": {},
     "output_type": "execute_result"
    }
   ],
   "source": [
    "X_1 = np.linalg.solve(R_1, B_1_1)\n",
    "X_1"
   ]
  },
  {
   "cell_type": "code",
   "execution_count": 46,
   "id": "1db300ae",
   "metadata": {},
   "outputs": [
    {
     "name": "stdout",
     "output_type": "stream",
     "text": [
      "[1.50000000e+00 9.32822279e-15 0.00000000e+00]\n"
     ]
    },
    {
     "data": {
      "text/plain": [
       "1.4999999999999896"
      ]
     },
     "execution_count": 46,
     "metadata": {},
     "output_type": "execute_result"
    }
   ],
   "source": [
    "X = np.append(X_1, 0)\n",
    "print(X)\n",
    "np.linalg.norm(X)"
   ]
  },
  {
   "cell_type": "code",
   "execution_count": 48,
   "id": "9b6afe7b",
   "metadata": {},
   "outputs": [
    {
     "data": {
      "text/plain": [
       "1.2247448713915894"
      ]
     },
     "execution_count": 48,
     "metadata": {},
     "output_type": "execute_result"
    }
   ],
   "source": [
    "np.linalg.norm(np.dot(A_1, X) - B_1)"
   ]
  }
 ],
 "metadata": {
  "kernelspec": {
   "display_name": "Python 3",
   "language": "python",
   "name": "python3"
  },
  "language_info": {
   "codemirror_mode": {
    "name": "ipython",
    "version": 3
   },
   "file_extension": ".py",
   "mimetype": "text/x-python",
   "name": "python",
   "nbconvert_exporter": "python",
   "pygments_lexer": "ipython3",
   "version": "3.8.8"
  }
 },
 "nbformat": 4,
 "nbformat_minor": 5
}
